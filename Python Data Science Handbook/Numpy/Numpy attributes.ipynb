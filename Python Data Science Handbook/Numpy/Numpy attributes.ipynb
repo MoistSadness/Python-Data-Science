{
 "cells": [
  {
   "cell_type": "markdown",
   "id": "df73b2c6-ae1a-4f67-8566-78a836e2f0f3",
   "metadata": {},
   "source": [
    "## Data Manipulation is nearly synonymous with numpy array manipulation.\n",
    "\n",
    "There are a couple of core categories for array manipulation\n",
    " - Attributes of arrays: Determining the size, shape, memory consupution and data types of arrays\n",
    " - Indexing of arrays: Getting and setting the value of individual array elements\n",
    " - Slicing of arrays: Getting and setting smaller subarrays within a larger array\n",
    " - Reshaping Arrays: Changing the shape of a given array\n",
    " - Joining and splitting of arrays: Combining multiple arrays into one, and splitting one into many"
   ]
  },
  {
   "cell_type": "markdown",
   "id": "9b2b771a-0a8c-445c-9197-0481c0dcbf1c",
   "metadata": {},
   "source": [
    "We will be defining three random arrays, a one dimensional, a two dimensional, and a three dimensional array"
   ]
  },
  {
   "cell_type": "code",
   "execution_count": 4,
   "id": "a700a098-837c-4afe-9576-2ff87031450c",
   "metadata": {},
   "outputs": [],
   "source": [
    "import numpy as np\n",
    "\n",
    "# Seed is set to reproduce the same array across many runs\n",
    "np.random.seed(0)\n",
    "\n",
    "x1 = np.random.randint(10, size=6)        # One dimensional\n",
    "x2 = np.random.randint(10, size=(3,4))    # Two dimensional\n",
    "x3 = np.random.randint(10, size=(3,4,5))  # Three dimensional"
   ]
  },
  {
   "cell_type": "markdown",
   "id": "ab0689c2-287e-4025-9b86-6f87cef6cf50",
   "metadata": {},
   "source": [
    "Each array has the following: \n",
    " - ndim (the number of dimensions)\n",
    " - shape (The size of each dimension)\n",
    " - size(the total size of the array)\n",
    " - dtype (data type)\n",
    " - itemsize (element size in bytes)\n",
    " - nbytes (total size in bytes)"
   ]
  },
  {
   "cell_type": "code",
   "execution_count": 5,
   "id": "650f3d1c-ae91-4273-9f6a-9d7a6592d81d",
   "metadata": {},
   "outputs": [
    {
     "name": "stdout",
     "output_type": "stream",
     "text": [
      "ndim:  3\n",
      "shape:  (3, 4, 5)\n",
      "size:  60\n",
      "dtype:  int64\n",
      "itemsize:  8\n",
      "nbytes:  480\n"
     ]
    }
   ],
   "source": [
    "print(\"ndim: \", x3.ndim)\n",
    "print(\"shape: \", x3.shape)\n",
    "print(\"size: \", x3.size)\n",
    "print(\"dtype: \", x3.dtype)\n",
    "print(\"itemsize: \", x3.itemsize)\n",
    "print(\"nbytes: \", x3.nbytes)"
   ]
  },
  {
   "cell_type": "markdown",
   "id": "d5377219-43e6-4eba-b902-ad7aaec86fb9",
   "metadata": {},
   "source": [
    "## Array indexing\n",
    "\n",
    "One dimensional array indexing is very similar to regular python list indexing\n",
    "In a multi dimensional array, items can be accessed using a comma separated tuple of indicies. Values can also be modified using any of the above index notations. However, it is important to note that since numpy arrays have fixed types, inserted data may be modified to match the array's type."
   ]
  },
  {
   "cell_type": "markdown",
   "id": "c38cf2f8-cd3b-4e35-910a-ce4ff161ead1",
   "metadata": {},
   "source": [
    "## Slicing arrays\n",
    "\n",
    "Square brackets can also be used to slice arrays into sub-arrays using the colon ':' character. The following pattern is used.\n",
    "\n",
    "array[start:stop:step]\n",
    "\n",
    "If any attributes are unspecified, they default to the following values:\n",
    " - start = 0\n",
    " - stop = size of dimension\n",
    " - step = 1\n"
   ]
  },
  {
   "cell_type": "code",
   "execution_count": null,
   "id": "7374306d-fed0-415f-bc62-61a2caa30798",
   "metadata": {},
   "outputs": [],
   "source": []
  }
 ],
 "metadata": {
  "kernelspec": {
   "display_name": "Python 3 (ipykernel)",
   "language": "python",
   "name": "python3"
  },
  "language_info": {
   "codemirror_mode": {
    "name": "ipython",
    "version": 3
   },
   "file_extension": ".py",
   "mimetype": "text/x-python",
   "name": "python",
   "nbconvert_exporter": "python",
   "pygments_lexer": "ipython3",
   "version": "3.9.7"
  }
 },
 "nbformat": 4,
 "nbformat_minor": 5
}
