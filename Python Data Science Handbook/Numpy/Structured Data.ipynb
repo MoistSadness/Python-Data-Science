{
 "cells": [
  {
   "cell_type": "markdown",
   "id": "4096a2b7-d946-4aca-b6b4-07f0945821bd",
   "metadata": {},
   "source": [
    "Numpy's structured arrays and record arrays provide efficient storage for compound, heterogeneous data. Pandas Dataframes are more useful for these operations."
   ]
  },
  {
   "cell_type": "code",
   "execution_count": 5,
   "id": "06826755-00cd-4f6c-8dbf-f0233021cafd",
   "metadata": {},
   "outputs": [
    {
     "name": "stdout",
     "output_type": "stream",
     "text": [
      "[('name', '<U10'), ('age', '<i4'), ('weight', '<f8')]\n"
     ]
    }
   ],
   "source": [
    "import numpy as np\n",
    "\n",
    "# A compound data type is used when making structured arrays\n",
    "data = np.zeros(4, dtype={\n",
    "    'names': ('name','age','weight'),\n",
    "    'formats': ('U10','i4','f8'),\n",
    "})\n",
    "print(data.dtype)"
   ]
  },
  {
   "cell_type": "code",
   "execution_count": 6,
   "id": "b5471800-9ddc-4338-8898-84e91f274093",
   "metadata": {},
   "outputs": [
    {
     "name": "stdout",
     "output_type": "stream",
     "text": [
      "[('Alice', 25, 55. ) ('Bob', 45, 85.5) ('Cathy', 37, 68. )\n",
      " ('Doug', 19, 61.5)]\n"
     ]
    }
   ],
   "source": [
    "data['name'] = ['Alice','Bob','Cathy','Doug']\n",
    "data['age'] = [25,45,37,19]\n",
    "data['weight'] = [55,85.5,68,61.5]\n",
    "print(data)"
   ]
  },
  {
   "cell_type": "markdown",
   "id": "45ec95a8-9c3d-4d96-ae1a-61e80380c5c1",
   "metadata": {},
   "source": [
    "Data can also be refered to by name or index"
   ]
  },
  {
   "cell_type": "code",
   "execution_count": 7,
   "id": "7a6ed552-51b8-4817-8044-6e7c1e98b73a",
   "metadata": {},
   "outputs": [
    {
     "data": {
      "text/plain": [
       "('Alice', 25, 55.)"
      ]
     },
     "execution_count": 7,
     "metadata": {},
     "output_type": "execute_result"
    }
   ],
   "source": [
    "data[0]"
   ]
  },
  {
   "cell_type": "code",
   "execution_count": 8,
   "id": "1a04eb03-e2e5-474c-8bb6-502701780fcc",
   "metadata": {},
   "outputs": [
    {
     "data": {
      "text/plain": [
       "'Doug'"
      ]
     },
     "execution_count": 8,
     "metadata": {},
     "output_type": "execute_result"
    }
   ],
   "source": [
    "data[-1]['name']"
   ]
  },
  {
   "cell_type": "markdown",
   "id": "341480ad-ca2d-4c32-a42b-5db3293a43e6",
   "metadata": {},
   "source": [
    "Masks can be used to do more sophisticated operations such as filtering"
   ]
  },
  {
   "cell_type": "code",
   "execution_count": 9,
   "id": "eb785efd-fe2d-4d14-bdec-dcf4328daebb",
   "metadata": {},
   "outputs": [
    {
     "data": {
      "text/plain": [
       "array(['Alice', 'Doug'], dtype='<U10')"
      ]
     },
     "execution_count": 9,
     "metadata": {},
     "output_type": "execute_result"
    }
   ],
   "source": [
    "data[data['age'] < 30]['name']"
   ]
  },
  {
   "cell_type": "code",
   "execution_count": null,
   "id": "a3fa7e02-d8e0-4bf0-ac1c-e09cb8eae54e",
   "metadata": {},
   "outputs": [],
   "source": []
  }
 ],
 "metadata": {
  "kernelspec": {
   "display_name": "Python 3 (ipykernel)",
   "language": "python",
   "name": "python3"
  },
  "language_info": {
   "codemirror_mode": {
    "name": "ipython",
    "version": 3
   },
   "file_extension": ".py",
   "mimetype": "text/x-python",
   "name": "python",
   "nbconvert_exporter": "python",
   "pygments_lexer": "ipython3",
   "version": "3.9.7"
  }
 },
 "nbformat": 4,
 "nbformat_minor": 5
}
