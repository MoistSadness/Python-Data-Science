{
 "cells": [
  {
   "cell_type": "markdown",
   "id": "19a440ac-b343-4159-be95-709ec1a88497",
   "metadata": {},
   "source": [
    "## Why Arrays are important\n",
    "\n",
    "Everything can be broken down into arrays. Images for example can be broken down into a two dimensional array of numbers representing pixel brightness and audio can be broken down into a one dimensional array of intensity versus time. Therefore, the efficient storage and manipulation of arrays is key to data science. This is where NumPy comes in. \n",
    "\n",
    "NumPY is an interface to store and operate on dense data buffers. Unlike Python's list type, Numpy provides much more efficient storage and data opereations as the array grows larger."
   ]
  },
  {
   "cell_type": "code",
   "execution_count": 5,
   "id": "793effeb-2050-4b2f-93f7-a30e68c838ba",
   "metadata": {},
   "outputs": [
    {
     "data": {
      "text/plain": [
       "'1.20.3'"
      ]
     },
     "execution_count": 5,
     "metadata": {},
     "output_type": "execute_result"
    }
   ],
   "source": [
    "import numpy as np\n",
    "\n",
    "# Get version\n",
    "np.__version__\n",
    "\n",
    "# np? to view documentation"
   ]
  },
  {
   "cell_type": "markdown",
   "id": "25dec855-66bf-4c96-a420-dfe2a313902f",
   "metadata": {},
   "source": [
    "## Data types\n",
    "\n",
    "Since every variable in Python is dynamically typed, it is alot more easier to work with than a statically typed language like C. However, this flexibility is a double edged sword, since Python variables are more than the value of that variable itself, they contain information about that value's type. \n",
    "\n",
    "One way to summarize this would be to say that every variable in Python is an object. This means that there is some more overhead compared to a language like C, where an integer is the raw integer itself. Likewise, an list of Python integers creates an increasing amount of overhead as the list grows ever larger since each of it's component integers has it's own metadata regarding that integer."
   ]
  },
  {
   "cell_type": "markdown",
   "id": "de59a888-116b-4b4b-9597-c12f3645ff96",
   "metadata": {},
   "source": [
    "## Creating Numpy Arrays\n",
    "\n",
    "Numpy arrays can be created from regular python lists:"
   ]
  },
  {
   "cell_type": "code",
   "execution_count": 10,
   "id": "9bb9399f-440a-4e7f-a280-35c0c8f1c608",
   "metadata": {},
   "outputs": [
    {
     "data": {
      "text/plain": [
       "array([0, 1, 2, 3, 4])"
      ]
     },
     "execution_count": 10,
     "metadata": {},
     "output_type": "execute_result"
    }
   ],
   "source": [
    "first = [0, 1, 2, 3, 4]\n",
    "np.array(first)"
   ]
  },
  {
   "cell_type": "code",
   "execution_count": 11,
   "id": "a35abbcc-8311-42e1-a623-be18edbbdab2",
   "metadata": {},
   "outputs": [
    {
     "data": {
      "text/plain": [
       "array([0.   , 1.   , 1.987, 2.   , 3.   , 3.14 , 4.   ])"
      ]
     },
     "execution_count": 11,
     "metadata": {},
     "output_type": "execute_result"
    }
   ],
   "source": [
    "# Numpy will upcast if types don't match\n",
    "second = [0, 1, 1.987, 2, 3, 3.14, 4]\n",
    "np.array(second)"
   ]
  },
  {
   "cell_type": "code",
   "execution_count": 12,
   "id": "e438fd2e-7640-48f6-9ca2-b0270c46450f",
   "metadata": {},
   "outputs": [
    {
     "data": {
      "text/plain": [
       "array([[2, 3, 4],\n",
       "       [4, 5, 6],\n",
       "       [6, 7, 8]])"
      ]
     },
     "execution_count": 12,
     "metadata": {},
     "output_type": "execute_result"
    }
   ],
   "source": [
    "# Creating a multidimensional array using lists\n",
    "np.array([range(i, i+3) for i in [2, 4, 6]])"
   ]
  },
  {
   "cell_type": "markdown",
   "id": "daef73fd-cb15-4eb3-9a54-055d542a9715",
   "metadata": {},
   "source": [
    "They can also be created from scratch"
   ]
  },
  {
   "cell_type": "code",
   "execution_count": 14,
   "id": "b86aa521-781e-4214-b759-1950fd277abf",
   "metadata": {},
   "outputs": [
    {
     "data": {
      "text/plain": [
       "array([0, 0, 0, 0, 0, 0, 0, 0, 0, 0])"
      ]
     },
     "execution_count": 14,
     "metadata": {},
     "output_type": "execute_result"
    }
   ],
   "source": [
    "np.zeros(10, dtype=int)"
   ]
  },
  {
   "cell_type": "code",
   "execution_count": 13,
   "id": "ad16647a-0097-42bd-9535-914c34718e77",
   "metadata": {},
   "outputs": [
    {
     "data": {
      "text/plain": [
       "array([[1., 1., 1., 1., 1.],\n",
       "       [1., 1., 1., 1., 1.],\n",
       "       [1., 1., 1., 1., 1.]])"
      ]
     },
     "execution_count": 13,
     "metadata": {},
     "output_type": "execute_result"
    }
   ],
   "source": [
    "np.ones((3,5), dtype=float)"
   ]
  },
  {
   "cell_type": "markdown",
   "id": "e9416ed3-95b7-4775-b31b-4c4426970729",
   "metadata": {},
   "source": [
    "## Numpy Array Basics"
   ]
  },
  {
   "cell_type": "code",
   "execution_count": null,
   "id": "ebd6ee1b-fb1e-4599-9a66-c40a775f166b",
   "metadata": {},
   "outputs": [],
   "source": []
  }
 ],
 "metadata": {
  "kernelspec": {
   "display_name": "Python 3 (ipykernel)",
   "language": "python",
   "name": "python3"
  },
  "language_info": {
   "codemirror_mode": {
    "name": "ipython",
    "version": 3
   },
   "file_extension": ".py",
   "mimetype": "text/x-python",
   "name": "python",
   "nbconvert_exporter": "python",
   "pygments_lexer": "ipython3",
   "version": "3.9.7"
  }
 },
 "nbformat": 4,
 "nbformat_minor": 5
}
