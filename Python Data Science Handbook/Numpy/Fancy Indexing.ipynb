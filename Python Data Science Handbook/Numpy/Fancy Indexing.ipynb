{
 "cells": [
  {
   "cell_type": "markdown",
   "id": "b004ca45-7241-454f-a157-c60ba82ef147",
   "metadata": {},
   "source": [
    "Fancy indexing means an array of indexes can be indexed in an array to get an array of values corresponding to the array of indexes"
   ]
  },
  {
   "cell_type": "code",
   "execution_count": 9,
   "id": "7b5b594b-d272-42e9-8ccb-0bbad3ea0c86",
   "metadata": {},
   "outputs": [
    {
     "name": "stdout",
     "output_type": "stream",
     "text": [
      "[51 92 14 71 60 20 82 86 74 74]\n"
     ]
    }
   ],
   "source": [
    "import numpy as np\n",
    "\n",
    "rand = np.random.RandomState(42)\n",
    "x = rand.randint(100, size=10)\n",
    "print(x)"
   ]
  },
  {
   "cell_type": "markdown",
   "id": "064b7233-72f8-4cee-95f8-213c99735160",
   "metadata": {},
   "source": [
    "If we want to get the values at index 3, 5 and 7, we can index an array of the desired indexes:"
   ]
  },
  {
   "cell_type": "code",
   "execution_count": 10,
   "id": "d1271dfa-4e55-4485-bf5b-dd0262888ff3",
   "metadata": {},
   "outputs": [
    {
     "data": {
      "text/plain": [
       "array([71, 20, 86])"
      ]
     },
     "execution_count": 10,
     "metadata": {},
     "output_type": "execute_result"
    }
   ],
   "source": [
    "x[[3,5,7]]"
   ]
  },
  {
   "cell_type": "markdown",
   "id": "7f5fd1c3-8a5d-4146-a650-0599ba07f09c",
   "metadata": {},
   "source": [
    "This also works with multi dimensional arrays"
   ]
  },
  {
   "cell_type": "code",
   "execution_count": 11,
   "id": "5041b1a5-958f-4ba5-a113-0890b98ff39e",
   "metadata": {},
   "outputs": [
    {
     "data": {
      "text/plain": [
       "array([[ 0,  1,  2,  3],\n",
       "       [ 4,  5,  6,  7],\n",
       "       [ 8,  9, 10, 11]])"
      ]
     },
     "execution_count": 11,
     "metadata": {},
     "output_type": "execute_result"
    }
   ],
   "source": [
    "x = np.arange(12).reshape((3,4))\n",
    "x"
   ]
  },
  {
   "cell_type": "code",
   "execution_count": 12,
   "id": "096e7e21-3b01-4da5-941e-45adbe905b1f",
   "metadata": {},
   "outputs": [
    {
     "data": {
      "text/plain": [
       "array([ 2,  5, 11])"
      ]
     },
     "execution_count": 12,
     "metadata": {},
     "output_type": "execute_result"
    }
   ],
   "source": [
    "row = np.array([0,1,2])\n",
    "col = np.array([2,1,3])\n",
    "x[row,col]"
   ]
  },
  {
   "cell_type": "markdown",
   "id": "e1b4bcc6-58dd-45b6-a65e-2546587fd77e",
   "metadata": {},
   "source": [
    "Fancy indexing can be combined with regular indexing,slicing and masking"
   ]
  },
  {
   "cell_type": "code",
   "execution_count": 13,
   "id": "8d178a12-42e4-47db-befb-5b9baef0e18e",
   "metadata": {},
   "outputs": [
    {
     "data": {
      "text/plain": [
       "array([10,  8,  9])"
      ]
     },
     "execution_count": 13,
     "metadata": {},
     "output_type": "execute_result"
    }
   ],
   "source": [
    "x[2,[2,0,1]]  # with regular indexing\n",
    "x[1:,[2,0,1]]  # slicing"
   ]
  },
  {
   "cell_type": "markdown",
   "id": "b87fdba9-d21f-46fd-adcf-9617eaa799bf",
   "metadata": {},
   "source": [
    "One common application for fancy indexing is to visualize changes in comaprison to the original data"
   ]
  },
  {
   "cell_type": "code",
   "execution_count": null,
   "id": "fbb73f38-71dd-4c33-8ac6-96592a96dcf9",
   "metadata": {},
   "outputs": [],
   "source": []
  }
 ],
 "metadata": {
  "kernelspec": {
   "display_name": "Python 3 (ipykernel)",
   "language": "python",
   "name": "python3"
  },
  "language_info": {
   "codemirror_mode": {
    "name": "ipython",
    "version": 3
   },
   "file_extension": ".py",
   "mimetype": "text/x-python",
   "name": "python",
   "nbconvert_exporter": "python",
   "pygments_lexer": "ipython3",
   "version": "3.9.7"
  }
 },
 "nbformat": 4,
 "nbformat_minor": 5
}
