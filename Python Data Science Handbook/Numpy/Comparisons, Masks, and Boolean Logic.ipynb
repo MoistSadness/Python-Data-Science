{
 "cells": [
  {
   "cell_type": "markdown",
   "id": "438c5788-6e6c-4cf1-ba94-f548d86dcbdb",
   "metadata": {},
   "source": [
    "Boolean masks can be used to examing and manipulate datas within numpy arrays. Masking is used when the user wants to extract, modify, count or modiy values in an array based on a criteria.\n",
    "\n",
    "Comparison operators can be used as ufuncs"
   ]
  },
  {
   "cell_type": "code",
   "execution_count": 2,
   "id": "1b96a0a7-9c2c-4d6f-827a-feed7393fb68",
   "metadata": {},
   "outputs": [
    {
     "data": {
      "text/plain": [
       "array([ True,  True, False, False, False])"
      ]
     },
     "execution_count": 2,
     "metadata": {},
     "output_type": "execute_result"
    }
   ],
   "source": [
    "import numpy as np\n",
    "\n",
    "x = np.array([1, 2, 3, 4, 5])\n",
    "x < 3  # less than"
   ]
  },
  {
   "cell_type": "markdown",
   "id": "f9cace7a-7e65-40cd-8626-e8bc913abb72",
   "metadata": {},
   "source": [
    "Given a boolean array, there are a bunch of things that can be done."
   ]
  },
  {
   "cell_type": "code",
   "execution_count": 3,
   "id": "0a818708-91f9-40fb-a873-5e48ef137d4b",
   "metadata": {},
   "outputs": [
    {
     "data": {
      "text/plain": [
       "5"
      ]
     },
     "execution_count": 3,
     "metadata": {},
     "output_type": "execute_result"
    }
   ],
   "source": [
    "np.count_nonzero(x < 6)"
   ]
  },
  {
   "cell_type": "code",
   "execution_count": 4,
   "id": "e6d1e28f-6910-4254-a39f-274281f02972",
   "metadata": {},
   "outputs": [
    {
     "data": {
      "text/plain": [
       "5"
      ]
     },
     "execution_count": 4,
     "metadata": {},
     "output_type": "execute_result"
    }
   ],
   "source": [
    "np.sum(x < 6)"
   ]
  },
  {
   "cell_type": "code",
   "execution_count": 6,
   "id": "cd366edd-d7ea-40f4-9bfb-9fb66853843a",
   "metadata": {},
   "outputs": [
    {
     "data": {
      "text/plain": [
       "5"
      ]
     },
     "execution_count": 6,
     "metadata": {},
     "output_type": "execute_result"
    }
   ],
   "source": [
    "# how many values less than 6 in each row?\n",
    "np.sum(x < 6, axis=0)"
   ]
  },
  {
   "cell_type": "code",
   "execution_count": 7,
   "id": "50d35e43-a917-4da2-8d41-24c9ccc25a09",
   "metadata": {},
   "outputs": [
    {
     "data": {
      "text/plain": [
       "False"
      ]
     },
     "execution_count": 7,
     "metadata": {},
     "output_type": "execute_result"
    }
   ],
   "source": [
    "# are there any values greater than 8?\n",
    "np.any(x > 8)"
   ]
  },
  {
   "cell_type": "markdown",
   "id": "71ae44fe-77e8-4c9f-a7c9-ebcdd8190ce4",
   "metadata": {},
   "source": [
    "Boolean arrays can be used as a mask to select specific subsets of data"
   ]
  },
  {
   "cell_type": "code",
   "execution_count": null,
   "id": "38519563-28ed-41ef-ac57-84f9ad34586d",
   "metadata": {},
   "outputs": [],
   "source": []
  }
 ],
 "metadata": {
  "kernelspec": {
   "display_name": "Python 3 (ipykernel)",
   "language": "python",
   "name": "python3"
  },
  "language_info": {
   "codemirror_mode": {
    "name": "ipython",
    "version": 3
   },
   "file_extension": ".py",
   "mimetype": "text/x-python",
   "name": "python",
   "nbconvert_exporter": "python",
   "pygments_lexer": "ipython3",
   "version": "3.9.7"
  }
 },
 "nbformat": 4,
 "nbformat_minor": 5
}
