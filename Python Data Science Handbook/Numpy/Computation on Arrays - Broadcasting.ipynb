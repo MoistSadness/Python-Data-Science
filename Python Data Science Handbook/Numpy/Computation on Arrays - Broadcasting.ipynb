{
 "cells": [
  {
   "cell_type": "markdown",
   "id": "b22b6d28-8008-462f-b2cc-0c7b16127c80",
   "metadata": {},
   "source": [
    "Just like numpy ufuncs, Broadcasting can be used to vectorize operations to bypass Python's type checking. Broadcasting is a set of rules for applying binary ufuncs on arrays of different sizes.\n",
    "\n",
    "Broadcasing allows for binary operations to be performed on arrays of different sizes, for example, a scalar (zero dimensional array) can be added to an array"
   ]
  },
  {
   "cell_type": "code",
   "execution_count": 1,
   "id": "03370df0-f03b-440b-82a8-0234cba2f8d8",
   "metadata": {},
   "outputs": [
    {
     "data": {
      "text/plain": [
       "array([5, 6, 7])"
      ]
     },
     "execution_count": 1,
     "metadata": {},
     "output_type": "execute_result"
    }
   ],
   "source": [
    "import numpy as np\n",
    "a = np.array([0, 1, 2])\n",
    "a + 5"
   ]
  },
  {
   "cell_type": "markdown",
   "id": "423711cd-db56-4a36-8e44-e5d768206aa6",
   "metadata": {},
   "source": [
    "The '5' is essentially stretched into an an array([5, 5, 5]) and adds the results. The advantage of this is that the duplication of values doesn't actually happen, which saves on compute resources.\n",
    "\n",
    "This can also be done along multidimensional arrays and can even involve both arrays being broadcasted."
   ]
  },
  {
   "cell_type": "code",
   "execution_count": 4,
   "id": "771e7012-6ffc-4e74-9a4e-7e56b8057e5d",
   "metadata": {},
   "outputs": [
    {
     "data": {
      "text/plain": [
       "array([[1., 1., 1.],\n",
       "       [1., 1., 1.],\n",
       "       [1., 1., 1.]])"
      ]
     },
     "execution_count": 4,
     "metadata": {},
     "output_type": "execute_result"
    }
   ],
   "source": [
    "M = np.ones((3, 3))\n",
    "M"
   ]
  },
  {
   "cell_type": "code",
   "execution_count": 3,
   "id": "e3afb85d-ccaf-420e-89f6-338c5fb84066",
   "metadata": {},
   "outputs": [
    {
     "data": {
      "text/plain": [
       "array([[1., 2., 3.],\n",
       "       [1., 2., 3.],\n",
       "       [1., 2., 3.]])"
      ]
     },
     "execution_count": 3,
     "metadata": {},
     "output_type": "execute_result"
    }
   ],
   "source": [
    "M + a"
   ]
  },
  {
   "cell_type": "markdown",
   "id": "446047de-1ad2-4a44-ab82-34b0d463a4c1",
   "metadata": {},
   "source": [
    "There are a couple rules that go into broadcasting\n",
    " - Rule 1: If the two arrays differ in their number of dimensions, the shape of the one with fewer dimensions is padded with ones on its leading (left) side.\n",
    " - Rule 2: If the shape of the two arrays does not match in any dimension, the array with shape equal to 1 in that dimension is stretched to match the other shape.\n",
    " - Rule 3: If in any dimension the sizes disagree and neither is equal to 1, an error is raised."
   ]
  }
 ],
 "metadata": {
  "kernelspec": {
   "display_name": "Python 3 (ipykernel)",
   "language": "python",
   "name": "python3"
  },
  "language_info": {
   "codemirror_mode": {
    "name": "ipython",
    "version": 3
   },
   "file_extension": ".py",
   "mimetype": "text/x-python",
   "name": "python",
   "nbconvert_exporter": "python",
   "pygments_lexer": "ipython3",
   "version": "3.9.7"
  }
 },
 "nbformat": 4,
 "nbformat_minor": 5
}
