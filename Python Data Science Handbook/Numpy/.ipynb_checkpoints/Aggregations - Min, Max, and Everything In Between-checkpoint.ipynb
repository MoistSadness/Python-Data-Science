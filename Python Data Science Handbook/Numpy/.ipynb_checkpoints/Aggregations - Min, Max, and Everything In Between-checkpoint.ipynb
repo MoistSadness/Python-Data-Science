{
 "cells": [
  {
   "cell_type": "markdown",
   "id": "8470ddbf-35e7-4744-9eb8-7248cc10f3c6",
   "metadata": {},
   "source": [
    "When faced with a large amount of data, a first step is to comput summary statistics for th data in question, such as mean, median, standard deviation, etc...\n",
    "\n",
    "Numpy has fast built in aggregation functions ofr working on arrays. For example, the add function adds the contents of an array"
   ]
  },
  {
   "cell_type": "code",
   "execution_count": 4,
   "id": "6491f88a-aafa-43d9-9437-e38f2fba45bf",
   "metadata": {},
   "outputs": [
    {
     "data": {
      "text/plain": [
       "52.84085585892103"
      ]
     },
     "execution_count": 4,
     "metadata": {},
     "output_type": "execute_result"
    }
   ],
   "source": [
    "import numpy as np\n",
    "\n",
    "L = np.random.random(100)\n",
    "np.sum(L)  # sum function"
   ]
  },
  {
   "cell_type": "markdown",
   "id": "7130ebc5-4bf9-4792-9e2d-6d3815cf4169",
   "metadata": {},
   "source": [
    "There are alot of different aggregation functions that can be viewed in the numpy documentation\n",
    "\n",
    "One common type of aggregation operation is aggregating along a row or column in a multidimensional array. This can be done by specifying the axis along which the aggregate is computed."
   ]
  }
 ],
 "metadata": {
  "kernelspec": {
   "display_name": "Python 3 (ipykernel)",
   "language": "python",
   "name": "python3"
  },
  "language_info": {
   "codemirror_mode": {
    "name": "ipython",
    "version": 3
   },
   "file_extension": ".py",
   "mimetype": "text/x-python",
   "name": "python",
   "nbconvert_exporter": "python",
   "pygments_lexer": "ipython3",
   "version": "3.9.7"
  }
 },
 "nbformat": 4,
 "nbformat_minor": 5
}
