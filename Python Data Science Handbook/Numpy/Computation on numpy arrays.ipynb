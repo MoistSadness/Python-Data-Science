{
 "cells": [
  {
   "cell_type": "markdown",
   "id": "3bc64760-4cd8-4ad3-83d6-77d9b8a53f0e",
   "metadata": {},
   "source": [
    "Computation on numpy arrays can be very fast or very slow depending on if vectorized operations implemented to numpys universal functions (ufuncs) are used.\n",
    "\n",
    "Normal python loops are bottlenecked by the type checking and dynamic function dispatches the interpreter performs when making calculations on every element of an array. A vectorized operation on the other hand pushes the loop into the compiled layer underneath numpy, leading to faster operations since python's dynamic nature isn't present here. \n",
    "\n",
    "Ufuncs are the method by which vectorized operations are imlemented. If loops are present in a numpy script, it needs to be considered wether that loop can be replaced by a ufunc."
   ]
  },
  {
   "cell_type": "markdown",
   "id": "8fa56760-7d91-4475-8095-b4f9ec537721",
   "metadata": {},
   "source": [
    "## There are two types of ufuncs\n",
    "\n",
    " - unary ufuncs operate on a single input\n",
    " - binary ufuncts operate on two inputs\n",
    " \n",
    "Ufuncs make use of python's native arithmetic operators by using the operations as a wrapper for numpy functions. For example, \"+\" is the same thing as np.add()"
   ]
  },
  {
   "cell_type": "code",
   "execution_count": 6,
   "id": "b5ca847c-1460-4ae8-8530-b228749e7a72",
   "metadata": {},
   "outputs": [
    {
     "name": "stdout",
     "output_type": "stream",
     "text": [
      "x :  [0 1 2 3]\n",
      "x + 5 :  [5 6 7 8]\n",
      "x - 5 :  [-5 -4 -3 -2]\n",
      "x * 2 :  [0 2 4 6]\n",
      "x / 2 :  [0.  0.5 1.  1.5]\n",
      "x // 2 :  [0 0 1 1]\n",
      "-x     =  [ 0 -1 -2 -3]\n",
      "x ** 2 =  [0 1 4 9]\n",
      "x % 2  =  [0 1 0 1]\n"
     ]
    },
    {
     "data": {
      "text/plain": [
       "array([0, 1, 2, 3])"
      ]
     },
     "execution_count": 6,
     "metadata": {},
     "output_type": "execute_result"
    }
   ],
   "source": [
    "import numpy as np\n",
    "\n",
    "x = np.arange(4)\n",
    "print(\"x : \", x)\n",
    "print(\"x + 5 : \", x + 5)\n",
    "print(\"x - 5 : \", x - 5)\n",
    "print(\"x * 2 : \", x * 2)\n",
    "print(\"x / 2 : \", x / 2)\n",
    "print(\"x // 2 : \", x // 2)  # floor division\n",
    "print(\"-x     = \", -x)      # negation\n",
    "print(\"x ** 2 = \", x ** 2)  # exponentation\n",
    "print(\"x % 2  = \", x % 2)   # modulus\n",
    "np.absolute(x)              # absolute value"
   ]
  },
  {
   "cell_type": "markdown",
   "id": "5175e1b7-b090-4601-b258-86f995103871",
   "metadata": {},
   "source": [
    "There are all sorts of ufuncs available, from simpler operations such as trigonometric and logarithmic functions to more complex ones. More information can be found in the numpy documentation. \n",
    "\n",
    "scipy.special is another source for obscure ufuncs"
   ]
  },
  {
   "cell_type": "code",
   "execution_count": null,
   "id": "53cf2d3b-41e5-4b41-82ff-f2dbffc7d85c",
   "metadata": {},
   "outputs": [],
   "source": []
  }
 ],
 "metadata": {
  "kernelspec": {
   "display_name": "Python 3 (ipykernel)",
   "language": "python",
   "name": "python3"
  },
  "language_info": {
   "codemirror_mode": {
    "name": "ipython",
    "version": 3
   },
   "file_extension": ".py",
   "mimetype": "text/x-python",
   "name": "python",
   "nbconvert_exporter": "python",
   "pygments_lexer": "ipython3",
   "version": "3.9.7"
  }
 },
 "nbformat": 4,
 "nbformat_minor": 5
}
