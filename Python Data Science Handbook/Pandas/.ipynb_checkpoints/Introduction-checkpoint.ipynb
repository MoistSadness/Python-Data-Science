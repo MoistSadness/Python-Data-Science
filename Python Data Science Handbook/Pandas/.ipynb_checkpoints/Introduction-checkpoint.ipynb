{
 "cells": [
  {
   "cell_type": "markdown",
   "id": "5865166c-c371-4dae-b978-ece147c2f700",
   "metadata": {},
   "source": [
    "Pandas is a data manipulation library built on top of numpy and provides an efficient implementation of a dataframe, multidimensional arrays with attached column and row labels. It also provides data operations similar to that of a spreadsheet or database"
   ]
  },
  {
   "cell_type": "code",
   "execution_count": 2,
   "id": "236e8c83-0e5a-4c07-a273-cd0225974779",
   "metadata": {},
   "outputs": [
    {
     "data": {
      "text/plain": [
       "'1.3.4'"
      ]
     },
     "execution_count": 2,
     "metadata": {},
     "output_type": "execute_result"
    }
   ],
   "source": [
    "import pandas as pd\n",
    "pd.__version__"
   ]
  },
  {
   "cell_type": "markdown",
   "id": "f7567532-fe16-4e15-ab6c-c42b6c44c09f",
   "metadata": {},
   "source": [
    "The Pandas Series object is a one dimensional array of indexed data. It can be created from a list or array"
   ]
  },
  {
   "cell_type": "code",
   "execution_count": 7,
   "id": "60d24b55-f9c3-4672-946a-464d577163db",
   "metadata": {},
   "outputs": [
    {
     "data": {
      "text/plain": [
       "array([1, 2, 3, 4])"
      ]
     },
     "execution_count": 7,
     "metadata": {},
     "output_type": "execute_result"
    }
   ],
   "source": [
    "data = pd.Series([1,2,3,4,])\n",
    "data"
   ]
  },
  {
   "cell_type": "code",
   "execution_count": 8,
   "id": "45717a44-5ef4-49a3-928d-7f94b6a69c12",
   "metadata": {},
   "outputs": [
    {
     "data": {
      "text/plain": [
       "RangeIndex(start=0, stop=4, step=1)"
      ]
     },
     "execution_count": 8,
     "metadata": {},
     "output_type": "execute_result"
    }
   ],
   "source": [
    "data.index"
   ]
  },
  {
   "cell_type": "code",
   "execution_count": 9,
   "id": "aafc6c5a-b70a-4fed-a4ee-c97ea1ed1d0c",
   "metadata": {},
   "outputs": [
    {
     "data": {
      "text/plain": [
       "array([1, 2, 3, 4])"
      ]
     },
     "execution_count": 9,
     "metadata": {},
     "output_type": "execute_result"
    }
   ],
   "source": [
    "data.values"
   ]
  },
  {
   "cell_type": "markdown",
   "id": "75452621-66f9-4498-8c15-e0e6359aefe0",
   "metadata": {},
   "source": [
    "The primary difference between a Series and a Numpy array is that a Series has explicit index definitions. This gives a Series additional capabilities such as allowing it's index to be any value (like a string), not just an integer."
   ]
  },
  {
   "cell_type": "code",
   "execution_count": 10,
   "id": "91969616-d1dd-4af7-9d32-463e16e8af12",
   "metadata": {},
   "outputs": [
    {
     "data": {
      "text/plain": [
       "a    0.25\n",
       "b    0.50\n",
       "c    0.75\n",
       "d    1.00\n",
       "dtype: float64"
      ]
     },
     "execution_count": 10,
     "metadata": {},
     "output_type": "execute_result"
    }
   ],
   "source": [
    "data = pd.Series([0.25, 0.5, 0.75, 1.0],\n",
    "                 index=['a', 'b', 'c', 'd'])\n",
    "data"
   ]
  },
  {
   "cell_type": "markdown",
   "id": "464c1b56-82b6-4f73-bb49-438895650a72",
   "metadata": {},
   "source": [
    "This essentially makes a Series a fancy dictionary, the main difference being that a Series is vastly more effecient than a normal python dictionary. \n",
    "\n",
    "A series can also be constructed from a dictionary."
   ]
  },
  {
   "cell_type": "code",
   "execution_count": 11,
   "id": "53f38c8e-036d-400b-9a27-526ef3ed10b6",
   "metadata": {},
   "outputs": [
    {
     "data": {
      "text/plain": [
       "California    38332521\n",
       "Texas         26448193\n",
       "New York      19651127\n",
       "Florida       19552860\n",
       "Illinois      12882135\n",
       "dtype: int64"
      ]
     },
     "execution_count": 11,
     "metadata": {},
     "output_type": "execute_result"
    }
   ],
   "source": [
    "population_dict = {'California': 38332521,\n",
    "                   'Texas': 26448193,\n",
    "                   'New York': 19651127,\n",
    "                   'Florida': 19552860,\n",
    "                   'Illinois': 12882135\n",
    "}\n",
    "population = pd.Series(population_dict)\n",
    "population"
   ]
  },
  {
   "cell_type": "code",
   "execution_count": 12,
   "id": "e73ed898-a34c-43ff-9bb3-83b667c2d90a",
   "metadata": {},
   "outputs": [
    {
     "data": {
      "text/plain": [
       "38332521"
      ]
     },
     "execution_count": 12,
     "metadata": {},
     "output_type": "execute_result"
    }
   ],
   "source": [
    "population['California']"
   ]
  },
  {
   "cell_type": "markdown",
   "id": "3251eece-1d4e-4c2e-ac89-d7a924f0f29a",
   "metadata": {},
   "source": [
    "Series's also support array operations like slicing"
   ]
  },
  {
   "cell_type": "code",
   "execution_count": 14,
   "id": "17e8f4d6-f2d8-45b8-a778-8a66e745eaeb",
   "metadata": {},
   "outputs": [
    {
     "data": {
      "text/plain": [
       "California    38332521\n",
       "Texas         26448193\n",
       "New York      19651127\n",
       "dtype: int64"
      ]
     },
     "execution_count": 14,
     "metadata": {},
     "output_type": "execute_result"
    }
   ],
   "source": [
    "population['California':'New York']"
   ]
  },
  {
   "cell_type": "markdown",
   "id": "2d9d3d1d-747a-4b18-b1c0-74d6112b3f9a",
   "metadata": {},
   "source": [
    "A Dataframe can be described as a two dimensional array with flexible row indices and flexible column names. It can also be seen as a sequence of Pandas Series objects."
   ]
  },
  {
   "cell_type": "code",
   "execution_count": 16,
   "id": "5e83f876-b202-430a-97f4-b2c7837be996",
   "metadata": {},
   "outputs": [
    {
     "data": {
      "text/plain": [
       "California    423967\n",
       "Texas         695662\n",
       "New York      141297\n",
       "Florida       170312\n",
       "Illinois      149995\n",
       "dtype: int64"
      ]
     },
     "execution_count": 16,
     "metadata": {},
     "output_type": "execute_result"
    }
   ],
   "source": [
    "area_dict = {\n",
    "    'California': 423967, \n",
    "    'Texas': 695662, \n",
    "    'New York': 141297,\n",
    "    'Florida': 170312, \n",
    "    'Illinois': 149995\n",
    "}\n",
    "area = pd.Series(area_dict)\n",
    "area"
   ]
  },
  {
   "cell_type": "code",
   "execution_count": null,
   "id": "2fd14137-56e6-4cad-8e6d-0c9f27e84c69",
   "metadata": {},
   "outputs": [],
   "source": [
    "states = pd.DataFrame({\n",
    "    'population': population,\n",
    "    'area': area,\n",
    "})"
   ]
  }
 ],
 "metadata": {
  "kernelspec": {
   "display_name": "Python 3 (ipykernel)",
   "language": "python",
   "name": "python3"
  },
  "language_info": {
   "codemirror_mode": {
    "name": "ipython",
    "version": 3
   },
   "file_extension": ".py",
   "mimetype": "text/x-python",
   "name": "python",
   "nbconvert_exporter": "python",
   "pygments_lexer": "ipython3",
   "version": "3.9.7"
  }
 },
 "nbformat": 4,
 "nbformat_minor": 5
}
